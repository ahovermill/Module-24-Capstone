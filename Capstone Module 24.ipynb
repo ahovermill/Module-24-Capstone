{
 "cells": [
  {
   "cell_type": "markdown",
   "metadata": {},
   "source": [
    "### CRISP-DM PHASE 1:  BUSINESS UNDERSTANDING \n",
    "\n",
    "### Business Problem: \n",
    "####  Are we collecting enough data to determine if National and State programs are adequately employing United States ‘veterans’ into the U.S. labor market? \n",
    "### Data Source: \n",
    "#### Data is based on U.S. Census Bureau Veteran Employment Outcome (VEO) Survey. This data is made available through the data sharing partnerships between the U.S. Army, U.S. Census Bureau, and State Labor Mark Information Offices. Data is available at both the state and national level. https://lehd.ces.census.gov/data/veo_experimental.html#tabulation-levels.  Several dataset are available; however, conducting an analysis on DoD Military Occoupational Code (MOS) to Industry Job mapping should show a trend on types of jobs servicemen and servicewomen held and length of employment. \n",
    "\n",
    "\n",
    "### Background:\n",
    "#### Experimental survey is based on data sourced from US Army records. These records are shared with the US Census Bureau for recently discharged enlisted Army Veterans. \n",
    "### Business Outcome:\n",
    "#### Identify trends and gaps in “Veteran” Labor Market by mapping and analyzing data from Army active duty discharged servicemen and servicewomen information to the national database of jobs. The timeframe of data collection is from 2000 and 2008. Data statistics for this Capstone include DoD Occupational Code/Specialization, Employer Industry Code, and veteran demographics (age and location).\n"
   ]
  },
  {
   "cell_type": "code",
   "execution_count": 89,
   "metadata": {},
   "outputs": [],
   "source": [
    "# Libraries are imported and aliased correctly\n",
    "import pandas as pd\n",
    "import numpy as np\n",
    "from sklearn.dummy import DummyClassifier\n",
    "\n",
    "from sklearn.preprocessing import LabelEncoder\n",
    "from sklearn.preprocessing import StandardScaler\n",
    "from sklearn.preprocessing import MinMaxScaler\n",
    "from sklearn.model_selection import train_test_split\n",
    "from sklearn.linear_model import LogisticRegression\n",
    "import matplotlib.pyplot as plt\n",
    "import seaborn as sns\n",
    "\n",
    "from sklearn.neighbors import KNeighborsClassifier\n",
    "from sklearn.tree import DecisionTreeClassifier\n",
    "from sklearn.svm import SVC\n",
    "from sklearn.metrics import accuracy_score\n",
    "\n",
    "from sklearn.model_selection import GridSearchCV\n",
    "from sklearn.model_selection import cross_val_score\n",
    "from sklearn.metrics import classification_report,confusion_matrix\n",
    "from sklearn.metrics import accuracy_score, precision_score, recall_score, f1_score\n",
    "\n",
    "import time"
   ]
  },
  {
   "cell_type": "markdown",
   "metadata": {},
   "source": [
    "### 2.0 CRISP-DM PHASE 2: DATA UNDERSTANDING (Exploratory Data Analysis)\n",
    "### - Load the Data\n"
   ]
  },
  {
   "cell_type": "markdown",
   "metadata": {},
   "source": [
    "#### 2.1 Loading the Data\n",
    "* Several datasets are available from the Census Bureau. I've loaded four datasets that include\n",
    "    - Age, Location, Industry, and Dod to Industry mapping"
   ]
  },
  {
   "cell_type": "code",
   "execution_count": 90,
   "metadata": {},
   "outputs": [
    {
     "name": "stdout",
     "output_type": "stream",
     "text": [
      "   cohort dod_occ_code  industry  y1_emp  y5_emp  y10_emp  y1_p25_earnings  \\\n",
      "0    2000          10X        11   202.0   198.0    158.0          18750.0   \n",
      "1    2000          10X        21   789.0   981.0    939.0          33640.0   \n",
      "2    2000          10X        22   293.0   504.0    510.0          28700.0   \n",
      "3    2000          10X        23  5165.0  4769.0   3216.0          21490.0   \n",
      "4    2000          10X        31  5870.0  6003.0   4866.0          23560.0   \n",
      "\n",
      "   y5_p25_earnings  y10_p25_earnings  y1_p50_earnings  y5_p50_earnings  \\\n",
      "0          25870.0           25640.0          26270.0          33860.0   \n",
      "1          48710.0           56160.0          48610.0          67860.0   \n",
      "2          44690.0           54720.0          41690.0          62720.0   \n",
      "3          28040.0           33240.0          29550.0          40360.0   \n",
      "4          30410.0           35230.0          32680.0          42310.0   \n",
      "\n",
      "   y10_p50_earnings  y1_p75_earnings  y5_p75_earnings  y10_p75_earnings  \n",
      "0           38180.0          34950.0          45240.0           49960.0  \n",
      "1           80130.0          63270.0          90000.0          108400.0  \n",
      "2           77750.0          57780.0          85110.0           98230.0  \n",
      "3           47670.0          40230.0          55720.0           67690.0  \n",
      "4           49030.0          44210.0          57430.0           68830.0  \n"
     ]
    }
   ],
   "source": [
    "# Load the muliltple datasets and merge them into a single dataframe\n",
    "df1 = pd.read_csv(r'C:\\Berkeley ML_AI\\Module 24\\veo_two_cohorts.csv')\n",
    "\n",
    "\n",
    "# Display the first 5 rows of the dataframe\n",
    "print(df1.head())"
   ]
  },
  {
   "cell_type": "code",
   "execution_count": 91,
   "metadata": {},
   "outputs": [
    {
     "name": "stdout",
     "output_type": "stream",
     "text": [
      "cohort                0\n",
      "dod_occ_code          0\n",
      "industry              0\n",
      "y1_emp               37\n",
      "y5_emp               54\n",
      "y10_emp             209\n",
      "y1_p25_earnings      37\n",
      "y5_p25_earnings      54\n",
      "y10_p25_earnings    209\n",
      "y1_p50_earnings      37\n",
      "y5_p50_earnings      54\n",
      "y10_p50_earnings    209\n",
      "y1_p75_earnings      37\n",
      "y5_p75_earnings      54\n",
      "y10_p75_earnings    209\n",
      "dtype: int64\n"
     ]
    }
   ],
   "source": [
    "# Look for missing values\n",
    "print(df1.isnull().sum())"
   ]
  },
  {
   "cell_type": "code",
   "execution_count": 92,
   "metadata": {},
   "outputs": [
    {
     "name": "stdout",
     "output_type": "stream",
     "text": [
      "<class 'pandas.core.frame.DataFrame'>\n",
      "RangeIndex: 378 entries, 0 to 377\n",
      "Data columns (total 15 columns):\n",
      " #   Column            Non-Null Count  Dtype  \n",
      "---  ------            --------------  -----  \n",
      " 0   cohort            378 non-null    int64  \n",
      " 1   dod_occ_code      378 non-null    object \n",
      " 2   industry          378 non-null    int64  \n",
      " 3   y1_emp            341 non-null    float64\n",
      " 4   y5_emp            324 non-null    float64\n",
      " 5   y10_emp           169 non-null    float64\n",
      " 6   y1_p25_earnings   341 non-null    float64\n",
      " 7   y5_p25_earnings   324 non-null    float64\n",
      " 8   y10_p25_earnings  169 non-null    float64\n",
      " 9   y1_p50_earnings   341 non-null    float64\n",
      " 10  y5_p50_earnings   324 non-null    float64\n",
      " 11  y10_p50_earnings  169 non-null    float64\n",
      " 12  y1_p75_earnings   341 non-null    float64\n",
      " 13  y5_p75_earnings   324 non-null    float64\n",
      " 14  y10_p75_earnings  169 non-null    float64\n",
      "dtypes: float64(12), int64(2), object(1)\n",
      "memory usage: 44.4+ KB\n"
     ]
    }
   ],
   "source": [
    "# Looking at the dataframe's columns and Dtype\n",
    "df1.info()"
   ]
  },
  {
   "cell_type": "code",
   "execution_count": 93,
   "metadata": {},
   "outputs": [
    {
     "name": "stdout",
     "output_type": "stream",
     "text": [
      "(378, 15)\n"
     ]
    }
   ],
   "source": [
    "# Look at the shape of the dataframe\n",
    "print(df1.shape)"
   ]
  },
  {
   "cell_type": "code",
   "execution_count": 94,
   "metadata": {},
   "outputs": [
    {
     "data": {
      "image/png": "[encoded data removed]",
      "text/plain": [
       "<Figure size 640x480 with 1 Axes>"
      ]
     },
     "metadata": {},
     "output_type": "display_data"
    }
   ],
   "source": [
    "df1['cohort'].hist()\n",
    "plt.show()\n"
   ]
  },
  {
   "cell_type": "code",
   "execution_count": 95,
   "metadata": {},
   "outputs": [
    {
     "name": "stdout",
     "output_type": "stream",
     "text": [
      "            cohort    industry       y1_emp       y5_emp      y10_emp  \\\n",
      "count   378.000000  378.000000   341.000000   324.000000   169.000000   \n",
      "mean   2004.000000   52.428571   913.175953   807.552469   914.573964   \n",
      "std       4.005302   22.521229  1139.653990  1125.855588  1145.945345   \n",
      "min    2000.000000   11.000000    51.000000    50.000000    52.000000   \n",
      "25%    2000.000000   42.000000   194.000000   155.750000   189.000000   \n",
      "50%    2004.000000   53.000000   430.000000   361.000000   480.000000   \n",
      "75%    2008.000000   62.000000  1179.000000   913.750000  1211.000000   \n",
      "max    2008.000000   99.000000  7347.000000  8514.000000  7587.000000   \n",
      "\n",
      "       y1_p25_earnings  y5_p25_earnings  y10_p25_earnings  y1_p50_earnings  \\\n",
      "count        341.00000       324.000000        169.000000       341.000000   \n",
      "mean       25098.56305     31478.611111      36648.047337     35545.601173   \n",
      "std         6695.66150      8857.626976      10272.412215     10105.864838   \n",
      "min        14100.00000     17320.000000      18450.000000     18350.000000   \n",
      "25%        20580.00000     25140.000000      29320.000000     29550.000000   \n",
      "50%        23500.00000     30345.000000      35320.000000     33460.000000   \n",
      "75%        28070.00000     35502.500000      41310.000000     41000.000000   \n",
      "max        59730.00000     62310.000000      64090.000000     81410.000000   \n",
      "\n",
      "       y5_p50_earnings  y10_p50_earnings  y1_p75_earnings  y5_p75_earnings  \\\n",
      "count       324.000000        169.000000       341.000000       324.000000   \n",
      "mean      44328.981481      51833.964497     49698.944282     61439.845679   \n",
      "std       12249.251568      13660.295708     14269.316054     15912.530403   \n",
      "min       22710.000000      25270.000000     25590.000000     31550.000000   \n",
      "25%       36642.500000      43140.000000     41300.000000     51850.000000   \n",
      "50%       42595.000000      49660.000000     46200.000000     59065.000000   \n",
      "75%       49747.500000      58250.000000     57090.000000     68105.000000   \n",
      "max       87920.000000      91310.000000    110900.000000    115800.000000   \n",
      "\n",
      "       y10_p75_earnings  \n",
      "count        169.000000  \n",
      "mean       72296.094675  \n",
      "std        17176.279744  \n",
      "min        39400.000000  \n",
      "25%        61520.000000  \n",
      "50%        69870.000000  \n",
      "75%        80530.000000  \n",
      "max       122300.000000  \n"
     ]
    }
   ],
   "source": [
    "# Look a the statistical summary of the dataframe\n",
    "print(df1.describe())"
   ]
  },
  {
   "cell_type": "code",
   "execution_count": 96,
   "metadata": {},
   "outputs": [
    {
     "name": "stdout",
     "output_type": "stream",
     "text": [
      "Index(['cohort', 'dod_occ_code', 'industry', 'y1_emp', 'y5_emp', 'y10_emp',\n",
      "       'y1_p25_earnings', 'y5_p25_earnings', 'y10_p25_earnings',\n",
      "       'y1_p50_earnings', 'y5_p50_earnings', 'y10_p50_earnings',\n",
      "       'y1_p75_earnings', 'y5_p75_earnings', 'y10_p75_earnings'],\n",
      "      dtype='object')\n"
     ]
    }
   ],
   "source": [
    "# List column names\n",
    "print(df1.columns)"
   ]
  },
  {
   "cell_type": "code",
   "execution_count": 97,
   "metadata": {},
   "outputs": [
    {
     "name": "stdout",
     "output_type": "stream",
     "text": [
      "[2000 2008]\n"
     ]
    }
   ],
   "source": [
    "# Look at unique values in the cohort column\n",
    "print(df1['cohort'].unique())"
   ]
  },
  {
   "cell_type": "code",
   "execution_count": 98,
   "metadata": {},
   "outputs": [
    {
     "name": "stdout",
     "output_type": "stream",
     "text": [
      "['10X' '11X' '12X' '13X' '14X' '15X' '16X' '17X' '18X']\n"
     ]
    }
   ],
   "source": [
    "# Look at unique values in the dod_occ_code column\n",
    "print(df1['dod_occ_code'].unique())\n"
   ]
  },
  {
   "cell_type": "markdown",
   "metadata": {},
   "source": [
    "### 3.0 CRISP-DM PHASE 3: DATA PREPARATION"
   ]
  },
  {
   "cell_type": "markdown",
   "metadata": {},
   "source": [
    "#### 3.1 Prepocess the Data/ Clean the Data/ Normalize the Data"
   ]
  },
  {
   "cell_type": "code",
   "execution_count": 99,
   "metadata": {},
   "outputs": [],
   "source": [
    "# Clean the dod_occ_code column\n",
    "# Remove rows with 0 in the dod_occ_code column\n",
    "df1 = df1[df1['dod_occ_code'] != 0]\n",
    "\n",
    "# Replace 10X, 11x, 12X, 13X, 14X, 15X, 16X, 17X, 18X with 0 in the dod_occ_code column\n",
    "df1['dod_occ_code'] = df1['dod_occ_code'].replace('10X', 10)\n",
    "df1['dod_occ_code'] = df1['dod_occ_code'].replace('11X', 11)\n",
    "df1['dod_occ_code'] = df1['dod_occ_code'].replace('12X', 12)\n",
    "df1['dod_occ_code'] = df1['dod_occ_code'].replace('13X', 13)\n",
    "df1['dod_occ_code'] = df1['dod_occ_code'].replace('14X', 14)\n",
    "df1['dod_occ_code'] = df1['dod_occ_code'].replace('15X', 15)\n",
    "df1['dod_occ_code'] = df1['dod_occ_code'].replace('16X', 16)\n",
    "df1['dod_occ_code'] = df1['dod_occ_code'].replace('17X', 17)\n",
    "df1['dod_occ_code'] = df1['dod_occ_code'].replace('18X', 18)"
   ]
  },
  {
   "cell_type": "code",
   "execution_count": 100,
   "metadata": {},
   "outputs": [
    {
     "name": "stdout",
     "output_type": "stream",
     "text": [
      "0\n"
     ]
    }
   ],
   "source": [
    "# Show missing values in dod_occ_code column\n",
    "print(df1['dod_occ_code'].isnull().sum())"
   ]
  },
  {
   "cell_type": "code",
   "execution_count": 101,
   "metadata": {},
   "outputs": [
    {
     "name": "stdout",
     "output_type": "stream",
     "text": [
      "[10 11 12 13 14 15 16 17 18]\n"
     ]
    }
   ],
   "source": [
    "# Show unique values in the dod_occ_code column\n",
    "print(df1['dod_occ_code'].unique())"
   ]
  },
  {
   "cell_type": "code",
   "execution_count": 102,
   "metadata": {},
   "outputs": [
    {
     "name": "stdout",
     "output_type": "stream",
     "text": [
      "[ 0 11 21 22 23 31 42 44 48 51 52 53 54 55 56 61 62 71 72 81 92 99]\n"
     ]
    }
   ],
   "source": [
    "# Show unique values in the industry column\n",
    "print(veo_df['industry'].unique())"
   ]
  },
  {
   "cell_type": "code",
   "execution_count": 103,
   "metadata": {},
   "outputs": [
    {
     "name": "stdout",
     "output_type": "stream",
     "text": [
      "0\n",
      "[11 21 22 23 31 42 44 48 51 52 53 54 55 56 61 62 71 72 81 92 99]\n"
     ]
    }
   ],
   "source": [
    "# Remove rows with 0 in the industry column\n",
    "df1 = df1[df1['industry'] != 0]\n",
    "\n",
    "# Show missing values in the industry column\n",
    "print(df1['industry'].isnull().sum())\n",
    "\n",
    "# Show unique values in the industry column\n",
    "print(df1['industry'].unique())\n"
   ]
  },
  {
   "cell_type": "code",
   "execution_count": 104,
   "metadata": {},
   "outputs": [
    {
     "name": "stdout",
     "output_type": "stream",
     "text": [
      "cohort                int64\n",
      "dod_occ_code          int64\n",
      "industry              int64\n",
      "y1_emp              float64\n",
      "y5_emp              float64\n",
      "y10_emp             float64\n",
      "y1_p25_earnings     float64\n",
      "y5_p25_earnings     float64\n",
      "y10_p25_earnings    float64\n",
      "y1_p50_earnings     float64\n",
      "y5_p50_earnings     float64\n",
      "y10_p50_earnings    float64\n",
      "y1_p75_earnings     float64\n",
      "y5_p75_earnings     float64\n",
      "y10_p75_earnings    float64\n",
      "dtype: object\n"
     ]
    }
   ],
   "source": [
    "# Look for non-numeric rows\n",
    "print(df1.dtypes)"
   ]
  },
  {
   "cell_type": "code",
   "execution_count": 105,
   "metadata": {},
   "outputs": [],
   "source": [
    "# Convert all Nan values to 0\n",
    "df1 = df1.fillna(0)"
   ]
  },
  {
   "cell_type": "code",
   "execution_count": 106,
   "metadata": {},
   "outputs": [
    {
     "name": "stdout",
     "output_type": "stream",
     "text": [
      "[2000 2008]\n"
     ]
    }
   ],
   "source": [
    "# Show unique values in the cohort column\n",
    "print(df1['cohort'].unique())"
   ]
  },
  {
   "cell_type": "code",
   "execution_count": 107,
   "metadata": {},
   "outputs": [
    {
     "data": {
      "text/plain": [
       "<Axes: >"
      ]
     },
     "execution_count": 107,
     "metadata": {},
     "output_type": "execute_result"
    },
    {
     "data": {
      "image/png": "[encoded data removed]",
      "text/plain": [
       "<Figure size 640x480 with 1 Axes>"
      ]
     },
     "metadata": {},
     "output_type": "display_data"
    }
   ],
   "source": [
    "# show trend on 1 year employment\n",
    "df1['y1_emp'].hist()"
   ]
  },
  {
   "cell_type": "markdown",
   "metadata": {},
   "source": [
    "## 4.0 CRISP-DM PHASE 4: DATA MODELING"
   ]
  },
  {
   "cell_type": "markdown",
   "metadata": {},
   "source": [
    "### 4.1Train - Test Split"
   ]
  },
  {
   "cell_type": "code",
   "execution_count": 108,
   "metadata": {},
   "outputs": [],
   "source": [
    "# Identify the target variable\n",
    "X = df1.drop('cohort', axis=1)\n",
    "y = df1['cohort']\n",
    "\n",
    "# Split the data into training and test sets\n",
    "X_train, X_test, y_train, y_test = train_test_split(X, y, test_size=0.3, random_state=42)\n",
    "\n"
   ]
  },
  {
   "cell_type": "markdown",
   "metadata": {},
   "source": [
    "### 4.2 Building a Baseline Model to compare performance metrics"
   ]
  },
  {
   "cell_type": "code",
   "execution_count": 109,
   "metadata": {},
   "outputs": [
    {
     "name": "stdout",
     "output_type": "stream",
     "text": [
      "Accuracy: 0.45614035087719296\n"
     ]
    }
   ],
   "source": [
    "# Build a baseline model and accuracy score\n",
    "\n",
    "# Create a DummyClassifier object\n",
    "dummy = DummyClassifier(strategy='most_frequent')\n",
    "\n",
    "# Fit the model to the training data\n",
    "dummy.fit(X_train, y_train)\n",
    "\n",
    "# Make predictions on the testing data\n",
    "y_pred = dummy.predict(X_test)\n",
    "\n",
    "# Calculate the accuracy of the model\n",
    "accuracy = accuracy_score(y_test, y_pred)\n",
    "\n",
    "# Print the accuracy of the model\n",
    "print('Accuracy:', accuracy)"
   ]
  },
  {
   "cell_type": "markdown",
   "metadata": {},
   "source": [
    "### 5.0 CRISP-DM PHASE 5: MODEL EVALUATION"
   ]
  },
  {
   "cell_type": "markdown",
   "metadata": {},
   "source": [
    "#### 5.1 Comparing each model's accuracy score with the baseline score"
   ]
  },
  {
   "cell_type": "code",
   "execution_count": 110,
   "metadata": {},
   "outputs": [
    {
     "name": "stdout",
     "output_type": "stream",
     "text": [
      "                     Train Accuracy  Test Accuracy\n",
      "Model                                             \n",
      "Logistic Regression        0.962121       0.921053\n",
      "KNN                        0.954545       0.929825\n",
      "Decision Tree              0.977273       0.929825\n",
      "SVM                        0.954545       0.929825\n"
     ]
    },
    {
     "name": "stderr",
     "output_type": "stream",
     "text": [
      "C:\\Users\\ahove\\anaconda3\\Lib\\site-packages\\sklearn\\linear_model\\_logistic.py:460: ConvergenceWarning: lbfgs failed to converge (status=1):\n",
      "STOP: TOTAL NO. of ITERATIONS REACHED LIMIT.\n",
      "\n",
      "Increase the number of iterations (max_iter) or scale the data as shown in:\n",
      "    https://scikit-learn.org/stable/modules/preprocessing.html\n",
      "Please also refer to the documentation for alternative solver options:\n",
      "    https://scikit-learn.org/stable/modules/linear_model.html#logistic-regression\n",
      "  n_iter_i = _check_optimize_result(\n"
     ]
    }
   ],
   "source": [
    "# Create a list of model names and models\n",
    "model_names = ['Logistic Regression', 'KNN', 'Decision Tree', 'SVM']\n",
    "models = [\n",
    "    LogisticRegression(),\n",
    "    KNeighborsClassifier(),\n",
    "    DecisionTreeClassifier(),\n",
    "    SVC()\n",
    "]\n",
    "\n",
    "# Create empty lists to store the results\n",
    "train_scores = []\n",
    "test_scores = []\n",
    "\n",
    "# Iterate over each model\n",
    "for model in models:\n",
    "    # Fit the model to the training data\n",
    "    model.fit(X_train, y_train)\n",
    "    \n",
    "    # Calculate the accuracy scores for training and test data\n",
    "    train_score = model.score(X_train, y_train)\n",
    "    test_score = model.score(X_test, y_test)\n",
    "    \n",
    "    # Append the scores to the lists\n",
    "    train_scores.append(train_score)\n",
    "    test_scores.append(test_score)\n",
    "\n",
    "# Create a dataframe to compare the models\n",
    "results = pd.DataFrame({'Model': model_names, 'Train Accuracy': train_scores, 'Test Accuracy': test_scores})\n",
    "results = results.set_index('Model')\n",
    "\n",
    "# Print the dataframe\n",
    "print(results)"
   ]
  },
  {
   "cell_type": "markdown",
   "metadata": {},
   "source": [
    "#### 5.2 Conducting Grid Search on Hyperparmeters on Best Model"
   ]
  },
  {
   "cell_type": "code",
   "execution_count": 111,
   "metadata": {},
   "outputs": [
    {
     "name": "stdout",
     "output_type": "stream",
     "text": [
      "Best parameters:  {'max_depth': 1, 'min_samples_leaf': 1, 'min_samples_split': 2}\n"
     ]
    }
   ],
   "source": [
    "from sklearn.metrics import make_scorer, accuracy_score\n",
    "\n",
    "# Define the parameter values that should be searched\n",
    "param_grid = {'max_depth': list(range(1, 11)), 'min_samples_split': list(range(2, 11)), 'min_samples_leaf': list(range(1, 11))}\n",
    "\n",
    "# Create a scorer\n",
    "scorer = make_scorer(accuracy_score)\n",
    "\n",
    "# Create a GridSearch object\n",
    "grid_obj = GridSearchCV(DecisionTreeClassifier(), param_grid, scoring=scorer)\n",
    "\n",
    "# Fit the data\n",
    "grid_fit = grid_obj.fit(X, y)\n",
    "\n",
    "# Get the estimator\n",
    "best_clf = grid_fit.best_estimator_\n",
    "\n",
    "# Print the best parameters\n",
    "print(\"Best parameters: \", grid_fit.best_params_)\n"
   ]
  },
  {
   "cell_type": "markdown",
   "metadata": {},
   "source": [
    "### Conducting Grid Search on selected models"
   ]
  },
  {
   "cell_type": "code",
   "execution_count": 112,
   "metadata": {},
   "outputs": [
    {
     "name": "stderr",
     "output_type": "stream",
     "text": [
      "C:\\Users\\ahove\\anaconda3\\Lib\\site-packages\\sklearn\\linear_model\\_logistic.py:460: ConvergenceWarning: lbfgs failed to converge (status=1):\n",
      "STOP: TOTAL NO. of ITERATIONS REACHED LIMIT.\n",
      "\n",
      "Increase the number of iterations (max_iter) or scale the data as shown in:\n",
      "    https://scikit-learn.org/stable/modules/preprocessing.html\n",
      "Please also refer to the documentation for alternative solver options:\n",
      "    https://scikit-learn.org/stable/modules/linear_model.html#logistic-regression\n",
      "  n_iter_i = _check_optimize_result(\n",
      "C:\\Users\\ahove\\anaconda3\\Lib\\site-packages\\sklearn\\linear_model\\_logistic.py:460: ConvergenceWarning: lbfgs failed to converge (status=1):\n",
      "STOP: TOTAL NO. of ITERATIONS REACHED LIMIT.\n",
      "\n",
      "Increase the number of iterations (max_iter) or scale the data as shown in:\n",
      "    https://scikit-learn.org/stable/modules/preprocessing.html\n",
      "Please also refer to the documentation for alternative solver options:\n",
      "    https://scikit-learn.org/stable/modules/linear_model.html#logistic-regression\n",
      "  n_iter_i = _check_optimize_result(\n",
      "C:\\Users\\ahove\\anaconda3\\Lib\\site-packages\\sklearn\\linear_model\\_logistic.py:460: ConvergenceWarning: lbfgs failed to converge (status=1):\n",
      "STOP: TOTAL NO. of ITERATIONS REACHED LIMIT.\n",
      "\n",
      "Increase the number of iterations (max_iter) or scale the data as shown in:\n",
      "    https://scikit-learn.org/stable/modules/preprocessing.html\n",
      "Please also refer to the documentation for alternative solver options:\n",
      "    https://scikit-learn.org/stable/modules/linear_model.html#logistic-regression\n",
      "  n_iter_i = _check_optimize_result(\n",
      "C:\\Users\\ahove\\anaconda3\\Lib\\site-packages\\sklearn\\linear_model\\_logistic.py:460: ConvergenceWarning: lbfgs failed to converge (status=1):\n",
      "STOP: TOTAL NO. of ITERATIONS REACHED LIMIT.\n",
      "\n",
      "Increase the number of iterations (max_iter) or scale the data as shown in:\n",
      "    https://scikit-learn.org/stable/modules/preprocessing.html\n",
      "Please also refer to the documentation for alternative solver options:\n",
      "    https://scikit-learn.org/stable/modules/linear_model.html#logistic-regression\n",
      "  n_iter_i = _check_optimize_result(\n",
      "C:\\Users\\ahove\\anaconda3\\Lib\\site-packages\\sklearn\\linear_model\\_logistic.py:460: ConvergenceWarning: lbfgs failed to converge (status=1):\n",
      "STOP: TOTAL NO. of ITERATIONS REACHED LIMIT.\n",
      "\n",
      "Increase the number of iterations (max_iter) or scale the data as shown in:\n",
      "    https://scikit-learn.org/stable/modules/preprocessing.html\n",
      "Please also refer to the documentation for alternative solver options:\n",
      "    https://scikit-learn.org/stable/modules/linear_model.html#logistic-regression\n",
      "  n_iter_i = _check_optimize_result(\n",
      "C:\\Users\\ahove\\anaconda3\\Lib\\site-packages\\sklearn\\linear_model\\_logistic.py:460: ConvergenceWarning: lbfgs failed to converge (status=1):\n",
      "STOP: TOTAL NO. of ITERATIONS REACHED LIMIT.\n",
      "\n",
      "Increase the number of iterations (max_iter) or scale the data as shown in:\n",
      "    https://scikit-learn.org/stable/modules/preprocessing.html\n",
      "Please also refer to the documentation for alternative solver options:\n",
      "    https://scikit-learn.org/stable/modules/linear_model.html#logistic-regression\n",
      "  n_iter_i = _check_optimize_result(\n",
      "C:\\Users\\ahove\\anaconda3\\Lib\\site-packages\\sklearn\\linear_model\\_logistic.py:460: ConvergenceWarning: lbfgs failed to converge (status=1):\n",
      "STOP: TOTAL NO. of ITERATIONS REACHED LIMIT.\n",
      "\n",
      "Increase the number of iterations (max_iter) or scale the data as shown in:\n",
      "    https://scikit-learn.org/stable/modules/preprocessing.html\n",
      "Please also refer to the documentation for alternative solver options:\n",
      "    https://scikit-learn.org/stable/modules/linear_model.html#logistic-regression\n",
      "  n_iter_i = _check_optimize_result(\n",
      "C:\\Users\\ahove\\anaconda3\\Lib\\site-packages\\sklearn\\linear_model\\_logistic.py:460: ConvergenceWarning: lbfgs failed to converge (status=1):\n",
      "STOP: TOTAL NO. of ITERATIONS REACHED LIMIT.\n",
      "\n",
      "Increase the number of iterations (max_iter) or scale the data as shown in:\n",
      "    https://scikit-learn.org/stable/modules/preprocessing.html\n",
      "Please also refer to the documentation for alternative solver options:\n",
      "    https://scikit-learn.org/stable/modules/linear_model.html#logistic-regression\n",
      "  n_iter_i = _check_optimize_result(\n",
      "C:\\Users\\ahove\\anaconda3\\Lib\\site-packages\\sklearn\\linear_model\\_logistic.py:460: ConvergenceWarning: lbfgs failed to converge (status=1):\n",
      "STOP: TOTAL NO. of ITERATIONS REACHED LIMIT.\n",
      "\n",
      "Increase the number of iterations (max_iter) or scale the data as shown in:\n",
      "    https://scikit-learn.org/stable/modules/preprocessing.html\n",
      "Please also refer to the documentation for alternative solver options:\n",
      "    https://scikit-learn.org/stable/modules/linear_model.html#logistic-regression\n",
      "  n_iter_i = _check_optimize_result(\n",
      "C:\\Users\\ahove\\anaconda3\\Lib\\site-packages\\sklearn\\linear_model\\_logistic.py:460: ConvergenceWarning: lbfgs failed to converge (status=1):\n",
      "STOP: TOTAL NO. of ITERATIONS REACHED LIMIT.\n",
      "\n",
      "Increase the number of iterations (max_iter) or scale the data as shown in:\n",
      "    https://scikit-learn.org/stable/modules/preprocessing.html\n",
      "Please also refer to the documentation for alternative solver options:\n",
      "    https://scikit-learn.org/stable/modules/linear_model.html#logistic-regression\n",
      "  n_iter_i = _check_optimize_result(\n",
      "C:\\Users\\ahove\\anaconda3\\Lib\\site-packages\\sklearn\\linear_model\\_logistic.py:460: ConvergenceWarning: lbfgs failed to converge (status=1):\n",
      "STOP: TOTAL NO. of ITERATIONS REACHED LIMIT.\n",
      "\n",
      "Increase the number of iterations (max_iter) or scale the data as shown in:\n",
      "    https://scikit-learn.org/stable/modules/preprocessing.html\n",
      "Please also refer to the documentation for alternative solver options:\n",
      "    https://scikit-learn.org/stable/modules/linear_model.html#logistic-regression\n",
      "  n_iter_i = _check_optimize_result(\n",
      "C:\\Users\\ahove\\anaconda3\\Lib\\site-packages\\sklearn\\linear_model\\_logistic.py:460: ConvergenceWarning: lbfgs failed to converge (status=1):\n",
      "STOP: TOTAL NO. of ITERATIONS REACHED LIMIT.\n",
      "\n",
      "Increase the number of iterations (max_iter) or scale the data as shown in:\n",
      "    https://scikit-learn.org/stable/modules/preprocessing.html\n",
      "Please also refer to the documentation for alternative solver options:\n",
      "    https://scikit-learn.org/stable/modules/linear_model.html#logistic-regression\n",
      "  n_iter_i = _check_optimize_result(\n",
      "C:\\Users\\ahove\\anaconda3\\Lib\\site-packages\\sklearn\\linear_model\\_logistic.py:460: ConvergenceWarning: lbfgs failed to converge (status=1):\n",
      "STOP: TOTAL NO. of ITERATIONS REACHED LIMIT.\n",
      "\n",
      "Increase the number of iterations (max_iter) or scale the data as shown in:\n",
      "    https://scikit-learn.org/stable/modules/preprocessing.html\n",
      "Please also refer to the documentation for alternative solver options:\n",
      "    https://scikit-learn.org/stable/modules/linear_model.html#logistic-regression\n",
      "  n_iter_i = _check_optimize_result(\n",
      "C:\\Users\\ahove\\anaconda3\\Lib\\site-packages\\sklearn\\linear_model\\_logistic.py:460: ConvergenceWarning: lbfgs failed to converge (status=1):\n",
      "STOP: TOTAL NO. of ITERATIONS REACHED LIMIT.\n",
      "\n",
      "Increase the number of iterations (max_iter) or scale the data as shown in:\n",
      "    https://scikit-learn.org/stable/modules/preprocessing.html\n",
      "Please also refer to the documentation for alternative solver options:\n",
      "    https://scikit-learn.org/stable/modules/linear_model.html#logistic-regression\n",
      "  n_iter_i = _check_optimize_result(\n",
      "C:\\Users\\ahove\\anaconda3\\Lib\\site-packages\\sklearn\\linear_model\\_logistic.py:460: ConvergenceWarning: lbfgs failed to converge (status=1):\n",
      "STOP: TOTAL NO. of ITERATIONS REACHED LIMIT.\n",
      "\n",
      "Increase the number of iterations (max_iter) or scale the data as shown in:\n",
      "    https://scikit-learn.org/stable/modules/preprocessing.html\n",
      "Please also refer to the documentation for alternative solver options:\n",
      "    https://scikit-learn.org/stable/modules/linear_model.html#logistic-regression\n",
      "  n_iter_i = _check_optimize_result(\n",
      "C:\\Users\\ahove\\anaconda3\\Lib\\site-packages\\sklearn\\linear_model\\_logistic.py:460: ConvergenceWarning: lbfgs failed to converge (status=1):\n",
      "STOP: TOTAL NO. of ITERATIONS REACHED LIMIT.\n",
      "\n",
      "Increase the number of iterations (max_iter) or scale the data as shown in:\n",
      "    https://scikit-learn.org/stable/modules/preprocessing.html\n",
      "Please also refer to the documentation for alternative solver options:\n",
      "    https://scikit-learn.org/stable/modules/linear_model.html#logistic-regression\n",
      "  n_iter_i = _check_optimize_result(\n"
     ]
    },
    {
     "name": "stderr",
     "output_type": "stream",
     "text": [
      "C:\\Users\\ahove\\anaconda3\\Lib\\site-packages\\sklearn\\linear_model\\_logistic.py:460: ConvergenceWarning: lbfgs failed to converge (status=1):\n",
      "STOP: TOTAL NO. of ITERATIONS REACHED LIMIT.\n",
      "\n",
      "Increase the number of iterations (max_iter) or scale the data as shown in:\n",
      "    https://scikit-learn.org/stable/modules/preprocessing.html\n",
      "Please also refer to the documentation for alternative solver options:\n",
      "    https://scikit-learn.org/stable/modules/linear_model.html#logistic-regression\n",
      "  n_iter_i = _check_optimize_result(\n",
      "C:\\Users\\ahove\\anaconda3\\Lib\\site-packages\\sklearn\\linear_model\\_logistic.py:460: ConvergenceWarning: lbfgs failed to converge (status=1):\n",
      "STOP: TOTAL NO. of ITERATIONS REACHED LIMIT.\n",
      "\n",
      "Increase the number of iterations (max_iter) or scale the data as shown in:\n",
      "    https://scikit-learn.org/stable/modules/preprocessing.html\n",
      "Please also refer to the documentation for alternative solver options:\n",
      "    https://scikit-learn.org/stable/modules/linear_model.html#logistic-regression\n",
      "  n_iter_i = _check_optimize_result(\n",
      "C:\\Users\\ahove\\anaconda3\\Lib\\site-packages\\sklearn\\linear_model\\_logistic.py:460: ConvergenceWarning: lbfgs failed to converge (status=1):\n",
      "STOP: TOTAL NO. of ITERATIONS REACHED LIMIT.\n",
      "\n",
      "Increase the number of iterations (max_iter) or scale the data as shown in:\n",
      "    https://scikit-learn.org/stable/modules/preprocessing.html\n",
      "Please also refer to the documentation for alternative solver options:\n",
      "    https://scikit-learn.org/stable/modules/linear_model.html#logistic-regression\n",
      "  n_iter_i = _check_optimize_result(\n",
      "C:\\Users\\ahove\\anaconda3\\Lib\\site-packages\\sklearn\\linear_model\\_logistic.py:460: ConvergenceWarning: lbfgs failed to converge (status=1):\n",
      "STOP: TOTAL NO. of ITERATIONS REACHED LIMIT.\n",
      "\n",
      "Increase the number of iterations (max_iter) or scale the data as shown in:\n",
      "    https://scikit-learn.org/stable/modules/preprocessing.html\n",
      "Please also refer to the documentation for alternative solver options:\n",
      "    https://scikit-learn.org/stable/modules/linear_model.html#logistic-regression\n",
      "  n_iter_i = _check_optimize_result(\n",
      "C:\\Users\\ahove\\anaconda3\\Lib\\site-packages\\sklearn\\linear_model\\_logistic.py:460: ConvergenceWarning: lbfgs failed to converge (status=1):\n",
      "STOP: TOTAL NO. of ITERATIONS REACHED LIMIT.\n",
      "\n",
      "Increase the number of iterations (max_iter) or scale the data as shown in:\n",
      "    https://scikit-learn.org/stable/modules/preprocessing.html\n",
      "Please also refer to the documentation for alternative solver options:\n",
      "    https://scikit-learn.org/stable/modules/linear_model.html#logistic-regression\n",
      "  n_iter_i = _check_optimize_result(\n",
      "C:\\Users\\ahove\\anaconda3\\Lib\\site-packages\\sklearn\\linear_model\\_logistic.py:460: ConvergenceWarning: lbfgs failed to converge (status=1):\n",
      "STOP: TOTAL NO. of ITERATIONS REACHED LIMIT.\n",
      "\n",
      "Increase the number of iterations (max_iter) or scale the data as shown in:\n",
      "    https://scikit-learn.org/stable/modules/preprocessing.html\n",
      "Please also refer to the documentation for alternative solver options:\n",
      "    https://scikit-learn.org/stable/modules/linear_model.html#logistic-regression\n",
      "  n_iter_i = _check_optimize_result(\n",
      "C:\\Users\\ahove\\anaconda3\\Lib\\site-packages\\sklearn\\linear_model\\_logistic.py:460: ConvergenceWarning: lbfgs failed to converge (status=1):\n",
      "STOP: TOTAL NO. of ITERATIONS REACHED LIMIT.\n",
      "\n",
      "Increase the number of iterations (max_iter) or scale the data as shown in:\n",
      "    https://scikit-learn.org/stable/modules/preprocessing.html\n",
      "Please also refer to the documentation for alternative solver options:\n",
      "    https://scikit-learn.org/stable/modules/linear_model.html#logistic-regression\n",
      "  n_iter_i = _check_optimize_result(\n",
      "C:\\Users\\ahove\\anaconda3\\Lib\\site-packages\\sklearn\\linear_model\\_logistic.py:460: ConvergenceWarning: lbfgs failed to converge (status=1):\n",
      "STOP: TOTAL NO. of ITERATIONS REACHED LIMIT.\n",
      "\n",
      "Increase the number of iterations (max_iter) or scale the data as shown in:\n",
      "    https://scikit-learn.org/stable/modules/preprocessing.html\n",
      "Please also refer to the documentation for alternative solver options:\n",
      "    https://scikit-learn.org/stable/modules/linear_model.html#logistic-regression\n",
      "  n_iter_i = _check_optimize_result(\n",
      "C:\\Users\\ahove\\anaconda3\\Lib\\site-packages\\sklearn\\linear_model\\_logistic.py:460: ConvergenceWarning: lbfgs failed to converge (status=1):\n",
      "STOP: TOTAL NO. of ITERATIONS REACHED LIMIT.\n",
      "\n",
      "Increase the number of iterations (max_iter) or scale the data as shown in:\n",
      "    https://scikit-learn.org/stable/modules/preprocessing.html\n",
      "Please also refer to the documentation for alternative solver options:\n",
      "    https://scikit-learn.org/stable/modules/linear_model.html#logistic-regression\n",
      "  n_iter_i = _check_optimize_result(\n",
      "C:\\Users\\ahove\\anaconda3\\Lib\\site-packages\\sklearn\\linear_model\\_logistic.py:460: ConvergenceWarning: lbfgs failed to converge (status=1):\n",
      "STOP: TOTAL NO. of ITERATIONS REACHED LIMIT.\n",
      "\n",
      "Increase the number of iterations (max_iter) or scale the data as shown in:\n",
      "    https://scikit-learn.org/stable/modules/preprocessing.html\n",
      "Please also refer to the documentation for alternative solver options:\n",
      "    https://scikit-learn.org/stable/modules/linear_model.html#logistic-regression\n",
      "  n_iter_i = _check_optimize_result(\n"
     ]
    },
    {
     "name": "stdout",
     "output_type": "stream",
     "text": [
      "Best hyperparameters for Logistic Regression:\n",
      "LogisticRegression(C=0.01)\n",
      "\n",
      "Best hyperparameters for KNN:\n",
      "KNeighborsClassifier()\n",
      "\n",
      "Best hyperparameters for Decision Tree:\n",
      "DecisionTreeClassifier(max_depth=5)\n",
      "\n",
      "Best hyperparameters for SVM:\n",
      "SVC(C=0.001, gamma=0.001)\n",
      "\n"
     ]
    }
   ],
   "source": [
    "# Create a list of model names and models\n",
    "model_names = ['Logistic Regression', 'KNN', 'Decision Tree', 'SVM']\n",
    "models = [\n",
    "    LogisticRegression(),\n",
    "    KNeighborsClassifier(),\n",
    "    DecisionTreeClassifier(),\n",
    "    SVC()\n",
    "]\n",
    "\n",
    "# Create a list of parameter grids for each model\n",
    "param_grids = [\n",
    "    {'C': [0.001, 0.01, 0.1, 1, 10]},\n",
    "    {'n_neighbors': [3, 5, 7, 9]},\n",
    "    {'max_depth': [None, 5, 10, 15]},\n",
    "    {'C': [0.001, 0.01, 0.1, 1, 10], 'gamma': [0.001, 0.01, 0.1, 1]}\n",
    "]\n",
    "\n",
    "# Perform grid search for each model\n",
    "best_models = []\n",
    "for i, model in enumerate(models):\n",
    "    grid_search = GridSearchCV(model, param_grids[i], cv=5)\n",
    "    grid_search.fit(X_train, y_train)\n",
    "    best_models.append(grid_search.best_estimator_)\n",
    "\n",
    "# Print the best hyperparameters for each model\n",
    "for i, model_name in enumerate(model_names):\n",
    "    print(f\"Best hyperparameters for {model_name}:\")\n",
    "    print(best_models[i])\n",
    "    print()"
   ]
  },
  {
   "cell_type": "markdown",
   "metadata": {},
   "source": [
    "### Checking the performance metrics for each model and creating a dataframe to show the results"
   ]
  },
  {
   "cell_type": "code",
   "execution_count": 113,
   "metadata": {},
   "outputs": [
    {
     "name": "stdout",
     "output_type": "stream",
     "text": [
      "                     Accuracy  Precision    Recall  F1-score\n",
      "Model                                                       \n",
      "Logistic Regression  0.929825   0.929187  0.932382  0.929630\n",
      "KNN                  0.929825   0.933333  0.935484  0.929803\n",
      "Decision Tree        0.947368   0.946296  0.948511  0.947108\n",
      "SVM                  0.456140   0.228070  0.500000  0.313253\n"
     ]
    },
    {
     "name": "stderr",
     "output_type": "stream",
     "text": [
      "C:\\Users\\ahove\\anaconda3\\Lib\\site-packages\\sklearn\\metrics\\_classification.py:1469: UndefinedMetricWarning: Precision is ill-defined and being set to 0.0 in labels with no predicted samples. Use `zero_division` parameter to control this behavior.\n",
      "  _warn_prf(average, modifier, msg_start, len(result))\n"
     ]
    }
   ],
   "source": [
    "# Create empty lists to store the metrics\n",
    "accuracy_scores = []\n",
    "precision_scores = []\n",
    "recall_scores = []\n",
    "f1_scores = []\n",
    "\n",
    "# Iterate over each model\n",
    "for model in best_models:\n",
    "    # Make predictions on the test data\n",
    "    y_pred = model.predict(X_test)\n",
    "    \n",
    "    # Calculate the metrics\n",
    "    accuracy = accuracy_score(y_test, y_pred)\n",
    "    precision = precision_score(y_test, y_pred, average='macro')\n",
    "    recall = recall_score(y_test, y_pred, average='macro' )\n",
    "    f1 = f1_score(y_test, y_pred, average='macro')\n",
    "    \n",
    "    # Append the scores to the lists\n",
    "    accuracy_scores.append(accuracy)\n",
    "    precision_scores.append(precision)\n",
    "    recall_scores.append(recall)\n",
    "    f1_scores.append(f1)\n",
    "\n",
    "# Create a dataframe to store the metrics\n",
    "metrics_df = pd.DataFrame({'Model': model_names, 'Accuracy': accuracy_scores, 'Precision': precision_scores, 'Recall': recall_scores, 'F1-score': f1_scores})\n",
    "metrics_df = metrics_df.set_index('Model')\n",
    "\n",
    "# Print the dataframe\n",
    "print(metrics_df)"
   ]
  },
  {
   "cell_type": "markdown",
   "metadata": {},
   "source": [
    "Plotting to show the visualization.  The black dotted line indicates best model to use."
   ]
  },
  {
   "cell_type": "code",
   "execution_count": 114,
   "metadata": {},
   "outputs": [
    {
     "data": {
      "image/png": "[encoded data removed]",
      "text/plain": [
       "<Figure size 640x480 with 1 Axes>"
      ]
     },
     "metadata": {},
     "output_type": "display_data"
    },
    {
     "name": "stdout",
     "output_type": "stream",
     "text": [
      "Best Model: Decision Tree\n"
     ]
    }
   ],
   "source": [
    "# Plot the metric scores using a line graph\n",
    "sns.lineplot(data=metrics_df)\n",
    "\n",
    "# Highlight the best model\n",
    "best_model = metrics_df.idxmax().values[0]\n",
    "plt.axvline(x=best_model, color='black', linestyle='--')\n",
    "\n",
    "# Set the labels and title\n",
    "plt.xlabel('Model')\n",
    "plt.ylabel('Score')\n",
    "plt.title('Model Metric Scores')\n",
    "\n",
    "# Show the plot\n",
    "plt.show()\n",
    "\n",
    "# Print out Best Model\n",
    "print(f\"Best Model: {best_model}\")\n",
    "\n"
   ]
  },
  {
   "cell_type": "markdown",
   "metadata": {},
   "source": [
    "## CRISP-DM PHASE 6: DEPLOYMENT"
   ]
  },
  {
   "cell_type": "markdown",
   "metadata": {},
   "source": [
    "Make predictions based on Logistic Regression Model"
   ]
  },
  {
   "cell_type": "code",
   "execution_count": 115,
   "metadata": {},
   "outputs": [
    {
     "name": "stdout",
     "output_type": "stream",
     "text": [
      "Accuracy: 0.9210526315789473\n",
      "              precision    recall  f1-score   support\n",
      "\n",
      "        2000       0.95      0.90      0.93        62\n",
      "        2008       0.89      0.94      0.92        52\n",
      "\n",
      "    accuracy                           0.92       114\n",
      "   macro avg       0.92      0.92      0.92       114\n",
      "weighted avg       0.92      0.92      0.92       114\n",
      "\n",
      "[[56  6]\n",
      " [ 3 49]]\n"
     ]
    },
    {
     "name": "stderr",
     "output_type": "stream",
     "text": [
      "C:\\Users\\ahove\\anaconda3\\Lib\\site-packages\\sklearn\\linear_model\\_logistic.py:460: ConvergenceWarning: lbfgs failed to converge (status=1):\n",
      "STOP: TOTAL NO. of ITERATIONS REACHED LIMIT.\n",
      "\n",
      "Increase the number of iterations (max_iter) or scale the data as shown in:\n",
      "    https://scikit-learn.org/stable/modules/preprocessing.html\n",
      "Please also refer to the documentation for alternative solver options:\n",
      "    https://scikit-learn.org/stable/modules/linear_model.html#logistic-regression\n",
      "  n_iter_i = _check_optimize_result(\n"
     ]
    }
   ],
   "source": [
    "# Build a logistic regression model\n",
    "logistic_regression_model = LogisticRegression()\n",
    "\n",
    "# Fit the model to the training data\n",
    "logistic_regression_model.fit(X_train, y_train)\n",
    "\n",
    "# Make predictions on the test data\n",
    "y_pred = logistic_regression_model.predict(X_test)\n",
    "\n",
    "# Calculate the accuracy of the model\n",
    "accuracy = accuracy_score(y_test, y_pred)\n",
    "\n",
    "# Print the accuracy of the model\n",
    "print('Accuracy:', accuracy)\n",
    "\n",
    "# Print the classification report\n",
    "print(classification_report(y_test, y_pred))\n",
    "\n",
    "# Print the confusion matrix\n",
    "print(confusion_matrix(y_test, y_pred))\n",
    "\n"
   ]
  },
  {
   "cell_type": "code",
   "execution_count": 116,
   "metadata": {},
   "outputs": [
    {
     "data": {
      "image/png": "[encoded data removed]",
      "text/plain": [
       "<Figure size 1000x600 with 1 Axes>"
      ]
     },
     "metadata": {},
     "output_type": "display_data"
    },
    {
     "name": "stdout",
     "output_type": "stream",
     "text": [
      "              precision    recall  f1-score   support\n",
      "\n",
      "        2000       0.95      0.90      0.93        62\n",
      "        2008       0.89      0.94      0.92        52\n",
      "\n",
      "    accuracy                           0.92       114\n",
      "   macro avg       0.92      0.92      0.92       114\n",
      "weighted avg       0.92      0.92      0.92       114\n",
      "\n"
     ]
    }
   ],
   "source": [
    "# Assuming that the LogisticRegression model has been trained and is named as 'logistic_regression_model'\n",
    "# And the target variable for the test set is 'y_test'\n",
    "\n",
    "# Predict the target variable\n",
    "y_pred = logistic_regression_model.predict(X_test)\n",
    "\n",
    "# Plotting the actual vs predicted values\n",
    "plt.figure(figsize=(10, 6))\n",
    "plt.scatter(y_test, y_pred, alpha=0.5)\n",
    "plt.xlabel(\"Actual\")\n",
    "plt.ylabel(\"Predicted\")\n",
    "plt.title(\"Actual vs Predicted (Logistic Regression)\")\n",
    "plt.show()\n",
    "\n",
    "# Print out the classification report\n",
    "print(classification_report(y_test, y_pred))\n"
   ]
  },
  {
   "cell_type": "markdown",
   "metadata": {},
   "source": [
    "#### Conclusion\n",
    "\n",
    "### Only using the selected data to show number of veterans employeed the first Cohort based on the DoD Occupational Code to Industry is not showing to have a better outcome than the second Cohort. US veteran labor market has the opportunity to improve veteran workforce."
   ]
  },
  {
   "cell_type": "code",
   "execution_count": null,
   "metadata": {},
   "outputs": [],
   "source": []
  }
 ],
 "metadata": {
  "kernelspec": {
   "display_name": "Python 3 (ipykernel)",
   "language": "python",
   "name": "python3"
  },
  "language_info": {
   "codemirror_mode": {
    "name": "ipython",
    "version": 3
   },
   "file_extension": ".py",
   "mimetype": "text/x-python",
   "name": "python",
   "nbconvert_exporter": "python",
   "pygments_lexer": "ipython3",
   "version": "3.11.4"
  },
  "widgets": {
   "application/vnd.jupyter.widget-state+json": {
    "state": {},
    "version_major": 2,
    "version_minor": 0
   }
  }
 },
 "nbformat": 4,
 "nbformat_minor": 4
}
